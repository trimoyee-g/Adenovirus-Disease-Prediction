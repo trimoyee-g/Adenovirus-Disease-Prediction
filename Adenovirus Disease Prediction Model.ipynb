{
 "cells": [
  {
   "cell_type": "markdown",
   "id": "d4264485-3bb8-4473-a0ff-caedaf3d0c55",
   "metadata": {},
   "source": [
    "# Adenovirus Disease Prediction for Child Healthcare Using Machine Learning"
   ]
  },
  {
   "cell_type": "markdown",
   "id": "3bd4bf81-d0d4-474e-b935-67e84b8f4e16",
   "metadata": {},
   "source": [
    "The proposed work aims to develop a machine learning model for early detection of Adenovirus disease using individual bodily parameters. This user-friendly tool could reduce reliance on physical examinations, particularly beneficial in rural areas with limited healthcare access. The model targets preventive health awareness, especially in children, to mitigate the impact of Adenovirus outbreaks, emphasizing the potential to curb widespread infections and improve resource allocation."
   ]
  },
  {
   "cell_type": "markdown",
   "id": "d3963000-1236-452b-955b-f947ce7559d8",
   "metadata": {},
   "source": [
    "Adenovirus Disease\n",
    "Adenovirus disease refers to a range of infections produced by adenoviruses, a virus family that can infect humans. Adenoviruses are classified into approximately 50 different kinds, each of which can induce a unique set of symptoms. Adenovirus infections are most common in children, but they can occur in people of all ages. The most common symptoms of adenovirus infection include:\n",
    "\n",
    "Breathing Problem\n",
    "Pink Eye\n",
    "Pneumonia\n",
    "Fever\n",
    "Acute Gastroenteritis (inflammation of the stomach and intestines)\n",
    "Dry cough\n",
    "Sore throat\n",
    "Bladder infection"
   ]
  },
  {
   "cell_type": "code",
   "execution_count": 1,
   "id": "38b07acf-87a1-4dc6-8f92-8cb81226dd62",
   "metadata": {},
   "outputs": [
    {
     "name": "stdout",
     "output_type": "stream",
     "text": [
      "  Breathing Problem Pink Eye Pneumonia  Fever Acute Gastroenteritis   \\\n",
      "0               Yes      Yes        Yes   Yes                    Yes   \n",
      "1               Yes      Yes        Yes   Yes                    Yes   \n",
      "2               Yes      Yes        Yes   Yes                     No   \n",
      "3               Yes      Yes        Yes   Yes                    Yes   \n",
      "4               Yes      Yes        Yes   Yes                    Yes   \n",
      "\n",
      "  Dry Cough Sore throat Bladder Infection Adenoviruses  \n",
      "0       Yes         Yes                No          Yes  \n",
      "1       Yes         Yes               Yes          Yes  \n",
      "2       Yes         Yes               Yes          Yes  \n",
      "3       Yes          No               Yes          Yes  \n",
      "4       Yes         Yes                No          Yes  \n"
     ]
    }
   ],
   "source": [
    "import pandas as pd \n",
    "import numpy as np \n",
    "import matplotlib \n",
    "import matplotlib.pyplot as plt \n",
    "import seaborn as sns \n",
    "import plotly.express as px \n",
    "\n",
    "from sklearn.model_selection import train_test_split \n",
    "from sklearn import metrics \n",
    "from sklearn.metrics import accuracy_score \n",
    "from sklearn.linear_model import LogisticRegression \n",
    "from sklearn.ensemble import RandomForestRegressor \n",
    "from sklearn.ensemble import GradientBoostingRegressor \n",
    "from sklearn.neighbors import KNeighborsClassifier \n",
    "from sklearn import tree \n",
    "from sklearn.naive_bayes import GaussianNB \n",
    "from sklearn import svm \n",
    "\n",
    "\n",
    "adenoviruses = pd.read_csv('Adenoviruses_Dataset.csv') \n",
    "\n",
    "pd.set_option('display.max_columns', None) \n",
    "\n",
    "print(adenoviruses.head())"
   ]
  },
  {
   "cell_type": "code",
   "execution_count": 2,
   "id": "147516d3-11ad-455e-a7cb-1c0ffc5ee864",
   "metadata": {},
   "outputs": [],
   "source": [
    "import warnings\n",
    "warnings.filterwarnings(\"ignore\")"
   ]
  },
  {
   "cell_type": "code",
   "execution_count": 3,
   "id": "35c408cd-2850-432f-be84-7dd460465220",
   "metadata": {},
   "outputs": [
    {
     "name": "stdout",
     "output_type": "stream",
     "text": [
      "<class 'pandas.core.frame.DataFrame'>\n",
      "RangeIndex: 5434 entries, 0 to 5433\n",
      "Data columns (total 9 columns):\n",
      " #   Column                  Non-Null Count  Dtype \n",
      "---  ------                  --------------  ----- \n",
      " 0   Breathing Problem       5434 non-null   object\n",
      " 1   Pink Eye                5434 non-null   object\n",
      " 2   Pneumonia               5434 non-null   object\n",
      " 3   Fever                   5434 non-null   object\n",
      " 4   Acute Gastroenteritis   5434 non-null   object\n",
      " 5   Dry Cough               5434 non-null   object\n",
      " 6   Sore throat             5434 non-null   object\n",
      " 7   Bladder Infection       5434 non-null   object\n",
      " 8   Adenoviruses            5434 non-null   object\n",
      "dtypes: object(9)\n",
      "memory usage: 382.2+ KB\n"
     ]
    }
   ],
   "source": [
    "adenoviruses.info()"
   ]
  },
  {
   "cell_type": "code",
   "execution_count": 4,
   "id": "ff3276f7-b169-4e9a-b3fa-dd2a14299e10",
   "metadata": {},
   "outputs": [
    {
     "name": "stdout",
     "output_type": "stream",
     "text": [
      "       Breathing Problem Pink Eye Pneumonia  Fever Acute Gastroenteritis   \\\n",
      "count               5434     5434       5434  5434                   5434   \n",
      "unique                 2        2          2     2                      2   \n",
      "top                  Yes      Yes        Yes   Yes                    Yes   \n",
      "freq                3620     3620       3620  4273                   2820   \n",
      "\n",
      "       Dry Cough Sore throat Bladder Infection Adenoviruses  \n",
      "count       5434        5434              5434         5434  \n",
      "unique         2           2                 2            2  \n",
      "top          Yes         Yes                No          Yes  \n",
      "freq        4307        3953              2920         4383  \n"
     ]
    }
   ],
   "source": [
    "print(adenoviruses.describe(include='all'))"
   ]
  },
  {
   "cell_type": "code",
   "execution_count": 5,
   "id": "e007b352-0551-473f-afa2-de07f6cb9251",
   "metadata": {},
   "outputs": [
    {
     "name": "stdout",
     "output_type": "stream",
     "text": [
      "   Breathing Problem  Pink Eye  Pneumonia   Fever  Acute Gastroenteritis   \\\n",
      "0                  1         1           1      1                       1   \n",
      "1                  1         1           1      1                       1   \n",
      "2                  1         1           1      1                       0   \n",
      "3                  1         1           1      1                       1   \n",
      "4                  1         1           1      1                       1   \n",
      "\n",
      "   Dry Cough  Sore throat  Bladder Infection  Adenoviruses  \n",
      "0          1            1                  0             1  \n",
      "1          1            1                  1             1  \n",
      "2          1            1                  1             1  \n",
      "3          1            0                  1             1  \n",
      "4          1            1                  0             1  \n"
     ]
    }
   ],
   "source": [
    "from sklearn.preprocessing import LabelEncoder \n",
    "e=LabelEncoder() \n",
    "\n",
    "adenoviruses['Breathing Problem']=e.fit_transform(adenoviruses['Breathing Problem']) \n",
    "adenoviruses['Pink Eye']=e.fit_transform(adenoviruses['Pink Eye']) \n",
    "adenoviruses['Pneumonia ']=e.fit_transform(adenoviruses['Pneumonia ']) \n",
    "adenoviruses['Fever']=e.fit_transform(adenoviruses['Fever']) \n",
    "adenoviruses['Acute Gastroenteritis ']=e.fit_transform(adenoviruses['Acute Gastroenteritis ']) \n",
    "adenoviruses['Dry Cough']=e.fit_transform(adenoviruses['Dry Cough']) \n",
    "adenoviruses['Sore throat']=e.fit_transform(adenoviruses['Sore throat']) \n",
    "adenoviruses['Bladder Infection']=e.fit_transform(adenoviruses['Bladder Infection']) \n",
    "adenoviruses['Adenoviruses']=e.fit_transform(adenoviruses['Adenoviruses']) \n",
    "\n",
    "print(adenoviruses.head())"
   ]
  },
  {
   "cell_type": "code",
   "execution_count": 6,
   "id": "dce7cfc4-ba70-401f-abca-2ab0c9659aee",
   "metadata": {},
   "outputs": [
    {
     "data": {
      "text/html": [
       "<style type=\"text/css\">\n",
       "#T_dfa0c_row0_col0, #T_dfa0c_row0_col1, #T_dfa0c_row0_col2, #T_dfa0c_row1_col0, #T_dfa0c_row1_col1, #T_dfa0c_row1_col2, #T_dfa0c_row2_col0, #T_dfa0c_row2_col1, #T_dfa0c_row2_col2, #T_dfa0c_row3_col3, #T_dfa0c_row4_col4, #T_dfa0c_row5_col5, #T_dfa0c_row6_col6, #T_dfa0c_row7_col7, #T_dfa0c_row8_col8 {\n",
       "  background-color: #b40426;\n",
       "  color: #f1f1f1;\n",
       "}\n",
       "#T_dfa0c_row0_col3, #T_dfa0c_row1_col3, #T_dfa0c_row2_col3, #T_dfa0c_row3_col0, #T_dfa0c_row3_col1, #T_dfa0c_row3_col2, #T_dfa0c_row7_col8, #T_dfa0c_row8_col7 {\n",
       "  background-color: #5572df;\n",
       "  color: #f1f1f1;\n",
       "}\n",
       "#T_dfa0c_row0_col4, #T_dfa0c_row1_col4, #T_dfa0c_row2_col4, #T_dfa0c_row4_col0, #T_dfa0c_row4_col1, #T_dfa0c_row4_col2 {\n",
       "  background-color: #4e68d8;\n",
       "  color: #f1f1f1;\n",
       "}\n",
       "#T_dfa0c_row0_col5, #T_dfa0c_row1_col5, #T_dfa0c_row2_col5, #T_dfa0c_row5_col0, #T_dfa0c_row5_col1, #T_dfa0c_row5_col2 {\n",
       "  background-color: #6c8ff1;\n",
       "  color: #f1f1f1;\n",
       "}\n",
       "#T_dfa0c_row0_col6, #T_dfa0c_row1_col6, #T_dfa0c_row2_col6, #T_dfa0c_row6_col0, #T_dfa0c_row6_col1, #T_dfa0c_row6_col2 {\n",
       "  background-color: #9fbfff;\n",
       "  color: #000000;\n",
       "}\n",
       "#T_dfa0c_row0_col7, #T_dfa0c_row1_col7, #T_dfa0c_row2_col7, #T_dfa0c_row3_col7, #T_dfa0c_row7_col0, #T_dfa0c_row7_col1, #T_dfa0c_row7_col2, #T_dfa0c_row7_col3 {\n",
       "  background-color: #506bda;\n",
       "  color: #f1f1f1;\n",
       "}\n",
       "#T_dfa0c_row0_col8, #T_dfa0c_row1_col8, #T_dfa0c_row2_col8, #T_dfa0c_row8_col0, #T_dfa0c_row8_col1, #T_dfa0c_row8_col2 {\n",
       "  background-color: #cdd9ec;\n",
       "  color: #000000;\n",
       "}\n",
       "#T_dfa0c_row3_col4, #T_dfa0c_row4_col3 {\n",
       "  background-color: #3b4cc0;\n",
       "  color: #f1f1f1;\n",
       "}\n",
       "#T_dfa0c_row3_col5, #T_dfa0c_row5_col3 {\n",
       "  background-color: #6282ea;\n",
       "  color: #f1f1f1;\n",
       "}\n",
       "#T_dfa0c_row3_col6, #T_dfa0c_row6_col3 {\n",
       "  background-color: #a6c4fe;\n",
       "  color: #000000;\n",
       "}\n",
       "#T_dfa0c_row3_col8, #T_dfa0c_row8_col3 {\n",
       "  background-color: #afcafc;\n",
       "  color: #000000;\n",
       "}\n",
       "#T_dfa0c_row4_col5, #T_dfa0c_row5_col4, #T_dfa0c_row5_col7, #T_dfa0c_row7_col5 {\n",
       "  background-color: #5470de;\n",
       "  color: #f1f1f1;\n",
       "}\n",
       "#T_dfa0c_row4_col6, #T_dfa0c_row6_col4 {\n",
       "  background-color: #516ddb;\n",
       "  color: #f1f1f1;\n",
       "}\n",
       "#T_dfa0c_row4_col7, #T_dfa0c_row7_col4 {\n",
       "  background-color: #3f53c6;\n",
       "  color: #f1f1f1;\n",
       "}\n",
       "#T_dfa0c_row4_col8, #T_dfa0c_row8_col4 {\n",
       "  background-color: #5f7fe8;\n",
       "  color: #f1f1f1;\n",
       "}\n",
       "#T_dfa0c_row5_col6, #T_dfa0c_row6_col5 {\n",
       "  background-color: #80a3fa;\n",
       "  color: #f1f1f1;\n",
       "}\n",
       "#T_dfa0c_row5_col8, #T_dfa0c_row8_col5 {\n",
       "  background-color: #d3dbe7;\n",
       "  color: #000000;\n",
       "}\n",
       "#T_dfa0c_row6_col7, #T_dfa0c_row7_col6 {\n",
       "  background-color: #536edd;\n",
       "  color: #f1f1f1;\n",
       "}\n",
       "#T_dfa0c_row6_col8, #T_dfa0c_row8_col6 {\n",
       "  background-color: #dddcdc;\n",
       "  color: #000000;\n",
       "}\n",
       "</style>\n",
       "<table id=\"T_dfa0c\">\n",
       "  <thead>\n",
       "    <tr>\n",
       "      <th class=\"blank level0\" >&nbsp;</th>\n",
       "      <th id=\"T_dfa0c_level0_col0\" class=\"col_heading level0 col0\" >Breathing Problem</th>\n",
       "      <th id=\"T_dfa0c_level0_col1\" class=\"col_heading level0 col1\" >Pink Eye</th>\n",
       "      <th id=\"T_dfa0c_level0_col2\" class=\"col_heading level0 col2\" >Pneumonia </th>\n",
       "      <th id=\"T_dfa0c_level0_col3\" class=\"col_heading level0 col3\" >Fever</th>\n",
       "      <th id=\"T_dfa0c_level0_col4\" class=\"col_heading level0 col4\" >Acute Gastroenteritis </th>\n",
       "      <th id=\"T_dfa0c_level0_col5\" class=\"col_heading level0 col5\" >Dry Cough</th>\n",
       "      <th id=\"T_dfa0c_level0_col6\" class=\"col_heading level0 col6\" >Sore throat</th>\n",
       "      <th id=\"T_dfa0c_level0_col7\" class=\"col_heading level0 col7\" >Bladder Infection</th>\n",
       "      <th id=\"T_dfa0c_level0_col8\" class=\"col_heading level0 col8\" >Adenoviruses</th>\n",
       "    </tr>\n",
       "  </thead>\n",
       "  <tbody>\n",
       "    <tr>\n",
       "      <th id=\"T_dfa0c_level0_row0\" class=\"row_heading level0 row0\" >Breathing Problem</th>\n",
       "      <td id=\"T_dfa0c_row0_col0\" class=\"data row0 col0\" >1.000000</td>\n",
       "      <td id=\"T_dfa0c_row0_col1\" class=\"data row0 col1\" >1.000000</td>\n",
       "      <td id=\"T_dfa0c_row0_col2\" class=\"data row0 col2\" >1.000000</td>\n",
       "      <td id=\"T_dfa0c_row0_col3\" class=\"data row0 col3\" >0.089903</td>\n",
       "      <td id=\"T_dfa0c_row0_col4\" class=\"data row0 col4\" >0.066688</td>\n",
       "      <td id=\"T_dfa0c_row0_col5\" class=\"data row0 col5\" >0.159562</td>\n",
       "      <td id=\"T_dfa0c_row0_col6\" class=\"data row0 col6\" >0.303768</td>\n",
       "      <td id=\"T_dfa0c_row0_col7\" class=\"data row0 col7\" >0.075318</td>\n",
       "      <td id=\"T_dfa0c_row0_col8\" class=\"data row0 col8\" >0.443764</td>\n",
       "    </tr>\n",
       "    <tr>\n",
       "      <th id=\"T_dfa0c_level0_row1\" class=\"row_heading level0 row1\" >Pink Eye</th>\n",
       "      <td id=\"T_dfa0c_row1_col0\" class=\"data row1 col0\" >1.000000</td>\n",
       "      <td id=\"T_dfa0c_row1_col1\" class=\"data row1 col1\" >1.000000</td>\n",
       "      <td id=\"T_dfa0c_row1_col2\" class=\"data row1 col2\" >1.000000</td>\n",
       "      <td id=\"T_dfa0c_row1_col3\" class=\"data row1 col3\" >0.089903</td>\n",
       "      <td id=\"T_dfa0c_row1_col4\" class=\"data row1 col4\" >0.066688</td>\n",
       "      <td id=\"T_dfa0c_row1_col5\" class=\"data row1 col5\" >0.159562</td>\n",
       "      <td id=\"T_dfa0c_row1_col6\" class=\"data row1 col6\" >0.303768</td>\n",
       "      <td id=\"T_dfa0c_row1_col7\" class=\"data row1 col7\" >0.075318</td>\n",
       "      <td id=\"T_dfa0c_row1_col8\" class=\"data row1 col8\" >0.443764</td>\n",
       "    </tr>\n",
       "    <tr>\n",
       "      <th id=\"T_dfa0c_level0_row2\" class=\"row_heading level0 row2\" >Pneumonia </th>\n",
       "      <td id=\"T_dfa0c_row2_col0\" class=\"data row2 col0\" >1.000000</td>\n",
       "      <td id=\"T_dfa0c_row2_col1\" class=\"data row2 col1\" >1.000000</td>\n",
       "      <td id=\"T_dfa0c_row2_col2\" class=\"data row2 col2\" >1.000000</td>\n",
       "      <td id=\"T_dfa0c_row2_col3\" class=\"data row2 col3\" >0.089903</td>\n",
       "      <td id=\"T_dfa0c_row2_col4\" class=\"data row2 col4\" >0.066688</td>\n",
       "      <td id=\"T_dfa0c_row2_col5\" class=\"data row2 col5\" >0.159562</td>\n",
       "      <td id=\"T_dfa0c_row2_col6\" class=\"data row2 col6\" >0.303768</td>\n",
       "      <td id=\"T_dfa0c_row2_col7\" class=\"data row2 col7\" >0.075318</td>\n",
       "      <td id=\"T_dfa0c_row2_col8\" class=\"data row2 col8\" >0.443764</td>\n",
       "    </tr>\n",
       "    <tr>\n",
       "      <th id=\"T_dfa0c_level0_row3\" class=\"row_heading level0 row3\" >Fever</th>\n",
       "      <td id=\"T_dfa0c_row3_col0\" class=\"data row3 col0\" >0.089903</td>\n",
       "      <td id=\"T_dfa0c_row3_col1\" class=\"data row3 col1\" >0.089903</td>\n",
       "      <td id=\"T_dfa0c_row3_col2\" class=\"data row3 col2\" >0.089903</td>\n",
       "      <td id=\"T_dfa0c_row3_col3\" class=\"data row3 col3\" >1.000000</td>\n",
       "      <td id=\"T_dfa0c_row3_col4\" class=\"data row3 col4\" >0.002252</td>\n",
       "      <td id=\"T_dfa0c_row3_col5\" class=\"data row3 col5\" >0.127580</td>\n",
       "      <td id=\"T_dfa0c_row3_col6\" class=\"data row3 col6\" >0.322235</td>\n",
       "      <td id=\"T_dfa0c_row3_col7\" class=\"data row3 col7\" >0.073953</td>\n",
       "      <td id=\"T_dfa0c_row3_col8\" class=\"data row3 col8\" >0.352891</td>\n",
       "    </tr>\n",
       "    <tr>\n",
       "      <th id=\"T_dfa0c_level0_row4\" class=\"row_heading level0 row4\" >Acute Gastroenteritis </th>\n",
       "      <td id=\"T_dfa0c_row4_col0\" class=\"data row4 col0\" >0.066688</td>\n",
       "      <td id=\"T_dfa0c_row4_col1\" class=\"data row4 col1\" >0.066688</td>\n",
       "      <td id=\"T_dfa0c_row4_col2\" class=\"data row4 col2\" >0.066688</td>\n",
       "      <td id=\"T_dfa0c_row4_col3\" class=\"data row4 col3\" >0.002252</td>\n",
       "      <td id=\"T_dfa0c_row4_col4\" class=\"data row4 col4\" >1.000000</td>\n",
       "      <td id=\"T_dfa0c_row4_col5\" class=\"data row4 col5\" >0.086176</td>\n",
       "      <td id=\"T_dfa0c_row4_col6\" class=\"data row4 col6\" >0.079055</td>\n",
       "      <td id=\"T_dfa0c_row4_col7\" class=\"data row4 col7\" >0.020941</td>\n",
       "      <td id=\"T_dfa0c_row4_col8\" class=\"data row4 col8\" >0.119755</td>\n",
       "    </tr>\n",
       "    <tr>\n",
       "      <th id=\"T_dfa0c_level0_row5\" class=\"row_heading level0 row5\" >Dry Cough</th>\n",
       "      <td id=\"T_dfa0c_row5_col0\" class=\"data row5 col0\" >0.159562</td>\n",
       "      <td id=\"T_dfa0c_row5_col1\" class=\"data row5 col1\" >0.159562</td>\n",
       "      <td id=\"T_dfa0c_row5_col2\" class=\"data row5 col2\" >0.159562</td>\n",
       "      <td id=\"T_dfa0c_row5_col3\" class=\"data row5 col3\" >0.127580</td>\n",
       "      <td id=\"T_dfa0c_row5_col4\" class=\"data row5 col4\" >0.086176</td>\n",
       "      <td id=\"T_dfa0c_row5_col5\" class=\"data row5 col5\" >1.000000</td>\n",
       "      <td id=\"T_dfa0c_row5_col6\" class=\"data row5 col6\" >0.213907</td>\n",
       "      <td id=\"T_dfa0c_row5_col7\" class=\"data row5 col7\" >0.086843</td>\n",
       "      <td id=\"T_dfa0c_row5_col8\" class=\"data row5 col8\" >0.464292</td>\n",
       "    </tr>\n",
       "    <tr>\n",
       "      <th id=\"T_dfa0c_level0_row6\" class=\"row_heading level0 row6\" >Sore throat</th>\n",
       "      <td id=\"T_dfa0c_row6_col0\" class=\"data row6 col0\" >0.303768</td>\n",
       "      <td id=\"T_dfa0c_row6_col1\" class=\"data row6 col1\" >0.303768</td>\n",
       "      <td id=\"T_dfa0c_row6_col2\" class=\"data row6 col2\" >0.303768</td>\n",
       "      <td id=\"T_dfa0c_row6_col3\" class=\"data row6 col3\" >0.322235</td>\n",
       "      <td id=\"T_dfa0c_row6_col4\" class=\"data row6 col4\" >0.079055</td>\n",
       "      <td id=\"T_dfa0c_row6_col5\" class=\"data row6 col5\" >0.213907</td>\n",
       "      <td id=\"T_dfa0c_row6_col6\" class=\"data row6 col6\" >1.000000</td>\n",
       "      <td id=\"T_dfa0c_row6_col7\" class=\"data row6 col7\" >0.081377</td>\n",
       "      <td id=\"T_dfa0c_row6_col8\" class=\"data row6 col8\" >0.502848</td>\n",
       "    </tr>\n",
       "    <tr>\n",
       "      <th id=\"T_dfa0c_level0_row7\" class=\"row_heading level0 row7\" >Bladder Infection</th>\n",
       "      <td id=\"T_dfa0c_row7_col0\" class=\"data row7 col0\" >0.075318</td>\n",
       "      <td id=\"T_dfa0c_row7_col1\" class=\"data row7 col1\" >0.075318</td>\n",
       "      <td id=\"T_dfa0c_row7_col2\" class=\"data row7 col2\" >0.075318</td>\n",
       "      <td id=\"T_dfa0c_row7_col3\" class=\"data row7 col3\" >0.073953</td>\n",
       "      <td id=\"T_dfa0c_row7_col4\" class=\"data row7 col4\" >0.020941</td>\n",
       "      <td id=\"T_dfa0c_row7_col5\" class=\"data row7 col5\" >0.086843</td>\n",
       "      <td id=\"T_dfa0c_row7_col6\" class=\"data row7 col6\" >0.081377</td>\n",
       "      <td id=\"T_dfa0c_row7_col7\" class=\"data row7 col7\" >1.000000</td>\n",
       "      <td id=\"T_dfa0c_row7_col8\" class=\"data row7 col8\" >0.089930</td>\n",
       "    </tr>\n",
       "    <tr>\n",
       "      <th id=\"T_dfa0c_level0_row8\" class=\"row_heading level0 row8\" >Adenoviruses</th>\n",
       "      <td id=\"T_dfa0c_row8_col0\" class=\"data row8 col0\" >0.443764</td>\n",
       "      <td id=\"T_dfa0c_row8_col1\" class=\"data row8 col1\" >0.443764</td>\n",
       "      <td id=\"T_dfa0c_row8_col2\" class=\"data row8 col2\" >0.443764</td>\n",
       "      <td id=\"T_dfa0c_row8_col3\" class=\"data row8 col3\" >0.352891</td>\n",
       "      <td id=\"T_dfa0c_row8_col4\" class=\"data row8 col4\" >0.119755</td>\n",
       "      <td id=\"T_dfa0c_row8_col5\" class=\"data row8 col5\" >0.464292</td>\n",
       "      <td id=\"T_dfa0c_row8_col6\" class=\"data row8 col6\" >0.502848</td>\n",
       "      <td id=\"T_dfa0c_row8_col7\" class=\"data row8 col7\" >0.089930</td>\n",
       "      <td id=\"T_dfa0c_row8_col8\" class=\"data row8 col8\" >1.000000</td>\n",
       "    </tr>\n",
       "  </tbody>\n",
       "</table>\n"
      ],
      "text/plain": [
       "<pandas.io.formats.style.Styler at 0x26affe6fc90>"
      ]
     },
     "execution_count": 6,
     "metadata": {},
     "output_type": "execute_result"
    }
   ],
   "source": [
    "corr=adenoviruses.corr() \n",
    "corr.style.background_gradient(cmap='coolwarm',axis=None)"
   ]
  },
  {
   "cell_type": "code",
   "execution_count": 7,
   "id": "71f81efb-8b16-4cde-bb18-e9ad1e5190eb",
   "metadata": {},
   "outputs": [],
   "source": [
    "from sklearn.model_selection import train_test_split \n",
    "from sklearn import metrics \n",
    "from sklearn.metrics import accuracy_score \n",
    "\n",
    "x=adenoviruses.drop('Adenoviruses',axis=1) \n",
    "y=adenoviruses['Adenoviruses'] \n",
    "\n",
    "x_train, x_test, y_train, y_test = train_test_split(x, y, test_size = 0.20)"
   ]
  },
  {
   "cell_type": "markdown",
   "id": "fdf3fb68-6d07-4836-9329-ded86a1b7aa9",
   "metadata": {},
   "source": [
    "# Logistic Regression"
   ]
  },
  {
   "cell_type": "code",
   "execution_count": 8,
   "id": "8e7f1894-1b30-4442-b6ca-8fad45dc12a5",
   "metadata": {},
   "outputs": [
    {
     "name": "stdout",
     "output_type": "stream",
     "text": [
      "91.81232750689972\n"
     ]
    }
   ],
   "source": [
    "model = LogisticRegression() \n",
    "# Fit the model \n",
    "model.fit(x_train, y_train) \n",
    "y_pred = model.predict(x_test) \n",
    "# Score/Accuracy \n",
    "acc_logreg = model.score(x_test, y_test)*100\n",
    "print(acc_logreg)"
   ]
  },
  {
   "cell_type": "markdown",
   "id": "6830e98b-2841-487d-84b2-f95f54f0b27e",
   "metadata": {},
   "source": [
    "# RandomForestRegressor"
   ]
  },
  {
   "cell_type": "code",
   "execution_count": 9,
   "id": "8059a70f-d878-4fcd-a43a-07e8f3aaf92d",
   "metadata": {},
   "outputs": [
    {
     "name": "stdout",
     "output_type": "stream",
     "text": [
      "71.43399717376052\n"
     ]
    }
   ],
   "source": [
    "model = RandomForestRegressor(n_estimators=1000) \n",
    "#Fit \n",
    "model.fit(x_train, y_train) \n",
    "#Score/Accuracy \n",
    "acc_randomforest=model.score(x_test, y_test)*100\n",
    "print(acc_randomforest)"
   ]
  },
  {
   "cell_type": "markdown",
   "id": "eb24432e-01c5-4722-91c9-f7c2052dc522",
   "metadata": {},
   "source": [
    "# GradientBoostingRegressor"
   ]
  },
  {
   "cell_type": "code",
   "execution_count": 10,
   "id": "07ba7d71-ce20-4b6a-aa4c-ee0f472d884b",
   "metadata": {},
   "outputs": [
    {
     "name": "stdout",
     "output_type": "stream",
     "text": [
      "71.11841992671106\n"
     ]
    }
   ],
   "source": [
    "GBR = GradientBoostingRegressor(n_estimators=100, max_depth=4) \n",
    "#Fit \n",
    "GBR.fit(x_train, y_train) \n",
    "acc_gbk=GBR.score(x_test, y_test)*100\n",
    "print(acc_gbk)"
   ]
  },
  {
   "cell_type": "markdown",
   "id": "fb85e151-27eb-43e5-add1-d48a56cb11db",
   "metadata": {},
   "source": [
    "# KNeighborsClassifier"
   ]
  },
  {
   "cell_type": "code",
   "execution_count": 11,
   "id": "3faf86d4-9741-4b3d-8720-ff15739e2fcc",
   "metadata": {},
   "outputs": [
    {
     "name": "stdout",
     "output_type": "stream",
     "text": [
      "93.83624655013799\n"
     ]
    }
   ],
   "source": [
    "knn = KNeighborsClassifier(n_neighbors=10) \n",
    "knn.fit(x_train, y_train) \n",
    "y_pred = knn.predict(x_test) \n",
    "#Score/Accuracy \n",
    "acc_knn=knn.score(x_test, y_test)*100\n",
    "print(acc_knn)"
   ]
  },
  {
   "cell_type": "markdown",
   "id": "69062f17-d6f4-4697-acf2-8accc08adac9",
   "metadata": {},
   "source": [
    "# DecisionTreeClassifier"
   ]
  },
  {
   "cell_type": "code",
   "execution_count": 12,
   "id": "ffdff52e-74fa-4b48-a79d-eb1c83923b79",
   "metadata": {},
   "outputs": [
    {
     "name": "stdout",
     "output_type": "stream",
     "text": [
      "94.11223551057958\n"
     ]
    }
   ],
   "source": [
    "t = tree.DecisionTreeClassifier() \n",
    "t.fit(x_train,y_train) \n",
    "y_pred = t.predict(x_test) \n",
    "#Score/Accuracy \n",
    "acc_decisiontree=t.score(x_test, y_test)*100\n",
    "print(acc_decisiontree)"
   ]
  },
  {
   "cell_type": "markdown",
   "id": "ea205468-f686-4ba3-8c41-5e1079a1d79a",
   "metadata": {},
   "source": [
    "# K-Nearest Neighbors(KNN)"
   ]
  },
  {
   "cell_type": "code",
   "execution_count": 13,
   "id": "f90029b4-5161-4f73-8041-348aab240466",
   "metadata": {},
   "outputs": [
    {
     "name": "stdout",
     "output_type": "stream",
     "text": [
      "87.21251149954001\n"
     ]
    }
   ],
   "source": [
    "model = GaussianNB() \n",
    "model.fit(x_train,y_train) \n",
    "#Score/Accuracy \n",
    "acc_gaussian= model.score(x_test, y_test)*100\n",
    "print(acc_gaussian)\n",
    "\n"
   ]
  },
  {
   "cell_type": "markdown",
   "id": "272c932b-011a-4b39-aeee-3f678e8bf512",
   "metadata": {},
   "source": [
    "# Support Vector Machines(SVM)"
   ]
  },
  {
   "cell_type": "code",
   "execution_count": 14,
   "id": "60ac8613-63a2-4f43-8c69-c3b927961ed2",
   "metadata": {},
   "outputs": [
    {
     "name": "stdout",
     "output_type": "stream",
     "text": [
      "92.73229070837166\n"
     ]
    }
   ],
   "source": [
    "#Create a svm Classifier \n",
    "clf = svm.SVC(kernel='linear') # Linear Kernel \n",
    "#Train the model using the training sets \n",
    "clf.fit(x_train, y_train) \n",
    "#Predict the response for test dataset \n",
    "y_pred = clf.predict(x_test) \n",
    "#Score/Accuracy \n",
    "acc_svc=clf.score(x_test, y_test)*100\n",
    "print(acc_svc)"
   ]
  },
  {
   "cell_type": "markdown",
   "id": "a3738359-8f63-41e4-a468-5cedc07ee656",
   "metadata": {},
   "source": [
    "# Model Accuracy"
   ]
  },
  {
   "cell_type": "code",
   "execution_count": 15,
   "id": "a6d5e7e9-0314-49c5-82fc-bb67acd604d3",
   "metadata": {},
   "outputs": [
    {
     "name": "stdout",
     "output_type": "stream",
     "text": [
      "                          Model      Score\n",
      "5                 Decision Tree  94.112236\n",
      "1                           KNN  93.836247\n",
      "0       Support Vector Machines  92.732291\n",
      "2           Logistic Regression  91.812328\n",
      "4                   Naive Bayes  87.212511\n",
      "3                 Random Forest  71.433997\n",
      "6  Gradient Boosting Classifier  71.118420\n"
     ]
    }
   ],
   "source": [
    "models = pd.DataFrame({ \n",
    "\t'Model': ['Support Vector Machines', 'KNN', 'Logistic Regression', \n",
    "\t\t\t'Random Forest', 'Naive Bayes', \n",
    "\t\t\t'Decision Tree', 'Gradient Boosting Classifier'], \n",
    "\t'Score': [acc_svc, acc_knn, acc_logreg, \n",
    "\t\t\tacc_randomforest, acc_gaussian, acc_decisiontree, acc_gbk]}) \n",
    "print(models.sort_values(by='Score', ascending=False))"
   ]
  },
  {
   "cell_type": "markdown",
   "id": "c3429017-f2e6-43bb-9a86-a95dd004746e",
   "metadata": {},
   "source": [
    "# The two best models are Decision Tree and K-Nearest Neighbours"
   ]
  },
  {
   "cell_type": "markdown",
   "id": "b2b5d83f-941b-4892-875b-2fbaed9a3820",
   "metadata": {},
   "source": [
    " # 1. K-Nearest Neighbours"
   ]
  },
  {
   "cell_type": "code",
   "execution_count": 16,
   "id": "6d5bb21b-3006-4e32-8f65-7cc63c9b64e6",
   "metadata": {},
   "outputs": [
    {
     "name": "stdout",
     "output_type": "stream",
     "text": [
      "Accuracy: 87.21%\n",
      "The Patient is Adenovirus Positive(+ve)\n"
     ]
    }
   ],
   "source": [
    "from sklearn.naive_bayes import GaussianNB\n",
    "\n",
    "# Assuming x_train, y_train, x_test, and y_test are your training and testing data\n",
    "model = GaussianNB() \n",
    "model.fit(x_train, y_train)  # Fit the model with training data\n",
    "\n",
    "# Score/Accuracy on the test set\n",
    "acc_gaussian = model.score(x_test, y_test) * 100\n",
    "print(f\"Accuracy: {acc_gaussian:.2f}%\")\n",
    "\n",
    "# Real Sample Input for Prediction\n",
    "new_sample = [[1, 1, 1, 1, 1, 1, 1, 0]]\n",
    "result = model.predict(new_sample)\n",
    "\n",
    "# Final Prediction\n",
    "if result == 1:\n",
    "    print(\"The Patient is Adenovirus Positive(+ve)\")\n",
    "else:\n",
    "    print(\"The Patient is Adenovirus Negative(-ve)\")\n"
   ]
  },
  {
   "cell_type": "code",
   "execution_count": 17,
   "id": "7e22dbf7-8eb2-476a-8fbf-69d31f531b9c",
   "metadata": {},
   "outputs": [
    {
     "name": "stdout",
     "output_type": "stream",
     "text": [
      "Precision: 0.94\n",
      "Recall: 0.98\n"
     ]
    }
   ],
   "source": [
    "from sklearn.metrics import precision_score, recall_score\n",
    "\n",
    "# Assuming y_test and y_pred are your true and predicted labels\n",
    "precision = precision_score(y_test, y_pred)\n",
    "recall = recall_score(y_test, y_pred)\n",
    "\n",
    "print(f\"Precision: {precision:.2f}\")\n",
    "print(f\"Recall: {recall:.2f}\")"
   ]
  },
  {
   "cell_type": "code",
   "execution_count": 18,
   "id": "684a8335-66d8-4167-bcab-7c3d6b2a13ad",
   "metadata": {},
   "outputs": [
    {
     "name": "stdout",
     "output_type": "stream",
     "text": [
      "True Positives (TP): 863\n",
      "True Negatives (TN): 145\n",
      "False Positives (FP): 59\n",
      "False Negatives (FN): 20\n"
     ]
    },
    {
     "data": {
      "image/png": "[encoded data removed]",
      "text/plain": [
       "<Figure size 600x400 with 1 Axes>"
      ]
     },
     "metadata": {},
     "output_type": "display_data"
    }
   ],
   "source": [
    "import seaborn as sns\n",
    "import matplotlib.pyplot as plt\n",
    "from sklearn.metrics import confusion_matrix\n",
    "\n",
    "# Assuming y_test and y_pred are your true and predicted labels\n",
    "conf_matrix = confusion_matrix(y_test, y_pred)\n",
    "\n",
    "# Extracting TP, TN, FP, FN from the confusion matrix\n",
    "TN, FP, FN, TP = conf_matrix.ravel()\n",
    "\n",
    "# Create a heatmap for the confusion matrix with a different color map\n",
    "sns.set(font_scale=1.2)\n",
    "plt.figure(figsize=(6, 4))\n",
    "sns.heatmap(conf_matrix, annot=True, fmt=\"d\", cmap=\"coolwarm\", cbar=False,\n",
    "            annot_kws={\"size\": 14},\n",
    "            xticklabels=[\"Negative\", \"Positive\"],\n",
    "            yticklabels=[\"Negative\", \"Positive\"])\n",
    "\n",
    "# Add labels and title\n",
    "plt.xlabel(\"Predicted\")\n",
    "plt.ylabel(\"True\")\n",
    "plt.title(\"Confusion Matrix\")\n",
    "\n",
    "# Display TP, TN, FP, FN\n",
    "print(f\"True Positives (TP): {TP}\")\n",
    "print(f\"True Negatives (TN): {TN}\")\n",
    "print(f\"False Positives (FP): {FP}\")\n",
    "print(f\"False Negatives (FN): {FN}\")\n",
    "\n",
    "# Show the plot\n",
    "plt.show()"
   ]
  },
  {
   "cell_type": "markdown",
   "id": "72c848e3-42c4-4d4a-8ca8-f3e46617e99f",
   "metadata": {},
   "source": [
    "# 2. DecisionTreeClassifier"
   ]
  },
  {
   "cell_type": "code",
   "execution_count": 19,
   "id": "7b0c61b8-59de-431c-84d5-bca622b635c9",
   "metadata": {},
   "outputs": [
    {
     "name": "stdout",
     "output_type": "stream",
     "text": [
      "Accuracy: 94.11%\n",
      "The Patient is Adenovirus Positive(+ve)\n"
     ]
    }
   ],
   "source": [
    "from sklearn.tree import DecisionTreeClassifier\n",
    "\n",
    "# Assuming x_train, y_train, x_test, and y_test are your training and testing data\n",
    "t = DecisionTreeClassifier() \n",
    "t.fit(x_train, y_train)  # Fit the model with training data\n",
    "\n",
    "# Predictions on the test set\n",
    "y_pred = t.predict(x_test) \n",
    "\n",
    "# Score/Accuracy on the test set\n",
    "acc_decisiontree = t.score(x_test, y_test) * 100\n",
    "print(f\"Accuracy: {acc_decisiontree:.2f}%\")\n",
    "\n",
    "# Creating a new model for prediction\n",
    "model = t  \n",
    "\n",
    "# Real Sample Input for Prediction\n",
    "new_sample = [[1, 1, 1, 1, 1, 1, 1, 0]]\n",
    "result = model.predict(new_sample)\n",
    "\n",
    "# Final Prediction\n",
    "if result == 1:\n",
    "    print(\"The Patient is Adenovirus Positive(+ve)\")\n",
    "else:\n",
    "    print(\"The Patient is Adenovirus Negative(-ve)\")"
   ]
  },
  {
   "cell_type": "code",
   "execution_count": 20,
   "id": "517e9b04-3890-408a-a86d-0900bb6341d0",
   "metadata": {},
   "outputs": [
    {
     "name": "stdout",
     "output_type": "stream",
     "text": [
      "Precision: 0.94\n",
      "Recall: 0.99\n"
     ]
    }
   ],
   "source": [
    "from sklearn.metrics import precision_score, recall_score\n",
    "\n",
    "# Assuming y_test and y_pred are your true and predicted labels\n",
    "precision = precision_score(y_test, y_pred)\n",
    "recall = recall_score(y_test, y_pred)\n",
    "\n",
    "print(f\"Precision: {precision:.2f}\")\n",
    "print(f\"Recall: {recall:.2f}\")\n"
   ]
  },
  {
   "cell_type": "code",
   "execution_count": 21,
   "id": "e70d6665-fde1-47c1-b027-b8af0899d2ad",
   "metadata": {},
   "outputs": [
    {
     "name": "stdout",
     "output_type": "stream",
     "text": [
      "True Positives (TP): 874\n",
      "True Negatives (TN): 149\n",
      "False Positives (FP): 55\n",
      "False Negatives (FN): 9\n"
     ]
    },
    {
     "data": {
      "image/png": "[encoded data removed]",
      "text/plain": [
       "<Figure size 600x400 with 1 Axes>"
      ]
     },
     "metadata": {},
     "output_type": "display_data"
    }
   ],
   "source": [
    "import seaborn as sns\n",
    "import matplotlib.pyplot as plt\n",
    "from sklearn.metrics import confusion_matrix\n",
    "\n",
    "# Assuming y_test and y_pred are your true and predicted labels\n",
    "conf_matrix = confusion_matrix(y_test, y_pred)\n",
    "\n",
    "# Extracting TP, TN, FP, FN from the confusion matrix\n",
    "TN, FP, FN, TP = conf_matrix.ravel()\n",
    "\n",
    "# Create a heatmap for the confusion matrix with a different color map\n",
    "sns.set(font_scale=1.2)\n",
    "plt.figure(figsize=(6, 4))\n",
    "sns.heatmap(conf_matrix, annot=True, fmt=\"d\", cmap=\"coolwarm\", cbar=False,\n",
    "            annot_kws={\"size\": 14},\n",
    "            xticklabels=[\"Negative\", \"Positive\"],\n",
    "            yticklabels=[\"Negative\", \"Positive\"])\n",
    "\n",
    "# Add labels and title\n",
    "plt.xlabel(\"Predicted\")\n",
    "plt.ylabel(\"True\")\n",
    "plt.title(\"Confusion Matrix\")\n",
    "\n",
    "# Display TP, TN, FP, FN\n",
    "print(f\"True Positives (TP): {TP}\")\n",
    "print(f\"True Negatives (TN): {TN}\")\n",
    "print(f\"False Positives (FP): {FP}\")\n",
    "print(f\"False Negatives (FN): {FN}\")\n",
    "\n",
    "# Show the plot\n",
    "plt.show()"
   ]
  },
  {
   "cell_type": "markdown",
   "id": "8a2d8378-6e29-4812-b821-22b69c6a2dbe",
   "metadata": {},
   "source": [
    "# Both Recall & Precision are higher for DecisionTreeClassifier hence it is the best model to predict presence of Adenovirus."
   ]
  }
 ],
 "metadata": {
  "kernelspec": {
   "display_name": "Python 3 (ipykernel)",
   "language": "python",
   "name": "python3"
  },
  "language_info": {
   "codemirror_mode": {
    "name": "ipython",
    "version": 3
   },
   "file_extension": ".py",
   "mimetype": "text/x-python",
   "name": "python",
   "nbconvert_exporter": "python",
   "pygments_lexer": "ipython3",
   "version": "3.11.5"
  }
 },
 "nbformat": 4,
 "nbformat_minor": 5
}
